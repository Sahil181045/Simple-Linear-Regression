{
 "cells": [
  {
   "cell_type": "code",
   "execution_count": 1,
   "id": "ef7b1695",
   "metadata": {},
   "outputs": [],
   "source": [
    "import pandas as pd"
   ]
  },
  {
   "cell_type": "markdown",
   "id": "60e82798",
   "metadata": {},
   "source": [
    "## Choosing a dataset"
   ]
  },
  {
   "cell_type": "code",
   "execution_count": 2,
   "id": "7747b856",
   "metadata": {},
   "outputs": [],
   "source": [
    "df = pd.read_csv('placement.csv')"
   ]
  },
  {
   "cell_type": "code",
   "execution_count": 3,
   "id": "977369a0",
   "metadata": {},
   "outputs": [
    {
     "data": {
      "text/html": [
       "<div>\n",
       "<style scoped>\n",
       "    .dataframe tbody tr th:only-of-type {\n",
       "        vertical-align: middle;\n",
       "    }\n",
       "\n",
       "    .dataframe tbody tr th {\n",
       "        vertical-align: top;\n",
       "    }\n",
       "\n",
       "    .dataframe thead th {\n",
       "        text-align: right;\n",
       "    }\n",
       "</style>\n",
       "<table border=\"1\" class=\"dataframe\">\n",
       "  <thead>\n",
       "    <tr style=\"text-align: right;\">\n",
       "      <th></th>\n",
       "      <th>cgpa</th>\n",
       "      <th>package</th>\n",
       "    </tr>\n",
       "  </thead>\n",
       "  <tbody>\n",
       "    <tr>\n",
       "      <th>0</th>\n",
       "      <td>6.89</td>\n",
       "      <td>3.26</td>\n",
       "    </tr>\n",
       "    <tr>\n",
       "      <th>1</th>\n",
       "      <td>5.12</td>\n",
       "      <td>1.98</td>\n",
       "    </tr>\n",
       "    <tr>\n",
       "      <th>2</th>\n",
       "      <td>7.82</td>\n",
       "      <td>3.25</td>\n",
       "    </tr>\n",
       "    <tr>\n",
       "      <th>3</th>\n",
       "      <td>7.42</td>\n",
       "      <td>3.67</td>\n",
       "    </tr>\n",
       "    <tr>\n",
       "      <th>4</th>\n",
       "      <td>6.94</td>\n",
       "      <td>3.57</td>\n",
       "    </tr>\n",
       "  </tbody>\n",
       "</table>\n",
       "</div>"
      ],
      "text/plain": [
       "   cgpa  package\n",
       "0  6.89     3.26\n",
       "1  5.12     1.98\n",
       "2  7.82     3.25\n",
       "3  7.42     3.67\n",
       "4  6.94     3.57"
      ]
     },
     "execution_count": 3,
     "metadata": {},
     "output_type": "execute_result"
    }
   ],
   "source": [
    "df.head()"
   ]
  },
  {
   "cell_type": "code",
   "execution_count": 4,
   "id": "0c4db86c",
   "metadata": {},
   "outputs": [
    {
     "data": {
      "text/plain": [
       "(200, 2)"
      ]
     },
     "execution_count": 4,
     "metadata": {},
     "output_type": "execute_result"
    }
   ],
   "source": [
    "df.shape"
   ]
  },
  {
   "cell_type": "code",
   "execution_count": 5,
   "id": "82e22086",
   "metadata": {},
   "outputs": [],
   "source": [
    "X = df['cgpa']\n",
    "y = df['package']"
   ]
  },
  {
   "cell_type": "markdown",
   "id": "556b03b8",
   "metadata": {},
   "source": [
    "## Data Preprocessing"
   ]
  },
  {
   "cell_type": "code",
   "execution_count": 6,
   "id": "bbe23981",
   "metadata": {},
   "outputs": [
    {
     "data": {
      "text/plain": [
       "False"
      ]
     },
     "execution_count": 6,
     "metadata": {},
     "output_type": "execute_result"
    }
   ],
   "source": [
    "# Checking for Nan values in the dataset\n",
    "df.isnull().values.any()"
   ]
  },
  {
   "cell_type": "code",
   "execution_count": 7,
   "id": "afd5d872",
   "metadata": {},
   "outputs": [
    {
     "data": {
      "text/plain": [
       "0"
      ]
     },
     "execution_count": 7,
     "metadata": {},
     "output_type": "execute_result"
    }
   ],
   "source": [
    "# Checking for duplicate values in the dataset\n",
    "df.duplicated().sum()"
   ]
  },
  {
   "cell_type": "markdown",
   "id": "c2391cab",
   "metadata": {},
   "source": [
    "## Visualizing the data"
   ]
  },
  {
   "cell_type": "code",
   "execution_count": 8,
   "id": "7b3fcbeb",
   "metadata": {},
   "outputs": [],
   "source": [
    "import matplotlib.pyplot as plt\n",
    "%matplotlib inline"
   ]
  },
  {
   "cell_type": "code",
   "execution_count": 9,
   "id": "35b9e9aa",
   "metadata": {},
   "outputs": [
    {
     "data": {
      "image/png": "[encoded data removed]",
      "text/plain": [
       "<Figure size 432x288 with 1 Axes>"
      ]
     },
     "metadata": {
      "needs_background": "light"
     },
     "output_type": "display_data"
    }
   ],
   "source": [
    "# Scatterplot for YearsExperience vs Salary\n",
    "plt.scatter(X, y)\n",
    "plt.show()"
   ]
  },
  {
   "cell_type": "markdown",
   "id": "20b72fdb",
   "metadata": {},
   "source": [
    "## Creating the Linear Regression Model"
   ]
  },
  {
   "cell_type": "code",
   "execution_count": 10,
   "id": "816051c6",
   "metadata": {},
   "outputs": [],
   "source": [
    "class SimpleLinearRegression:\n",
    "    def __init__(self):\n",
    "        self.m = None\n",
    "        self.c = None\n",
    "    \n",
    "    def fit(self, X, y):\n",
    "        X_mean = X.mean()\n",
    "        y_mean = y.mean()\n",
    "        num = 0\n",
    "        den = 0\n",
    "        \n",
    "        for i in range(len(X)):\n",
    "            num += (X[i] - X_mean)*(y[i] - y_mean)\n",
    "            den += (X[i] - X_mean)**2\n",
    "        \n",
    "        self.m = num/den\n",
    "        self.c = y_mean - (self.m * X_mean)\n",
    "    \n",
    "    def predict(self, X):\n",
    "        return (self.m * X) + self.c"
   ]
  },
  {
   "cell_type": "markdown",
   "id": "e434367a",
   "metadata": {},
   "source": [
    "## Splitting the data into training and testing data"
   ]
  },
  {
   "cell_type": "code",
   "execution_count": 11,
   "id": "b9f5f553",
   "metadata": {},
   "outputs": [],
   "source": [
    "from sklearn.model_selection import train_test_split\n",
    "X_train, X_test, y_train, y_test = train_test_split(X, y, test_size = 0.2, random_state = 0)"
   ]
  },
  {
   "cell_type": "code",
   "execution_count": 12,
   "id": "480cba07",
   "metadata": {},
   "outputs": [],
   "source": [
    "# Setting indexes\n",
    "X_train.index = pd.Index(range(len(X_train)))\n",
    "X_test.index = pd.Index(range(len(X_test)))\n",
    "y_train.index = pd.Index(range(len(y_train)))\n",
    "y_test.index = pd.Index(range(len(y_test)))"
   ]
  },
  {
   "cell_type": "markdown",
   "id": "6b5a8bae",
   "metadata": {},
   "source": [
    "## Applying the Linear Regression Model"
   ]
  },
  {
   "cell_type": "code",
   "execution_count": 13,
   "id": "1fb3cb22",
   "metadata": {},
   "outputs": [
    {
     "name": "stdout",
     "output_type": "stream",
     "text": [
      "m = 0.5763304184634158\n",
      "c = -1.0296070415163068\n"
     ]
    }
   ],
   "source": [
    "LR = SimpleLinearRegression()\n",
    "\n",
    "# Training the model with training data\n",
    "LR.fit(X_train, y_train)\n",
    "\n",
    "# Printing slope and intercept of the Linear Regression Model\n",
    "print(\"m =\", LR.m)\n",
    "print(\"c =\", LR.c)"
   ]
  },
  {
   "cell_type": "markdown",
   "id": "81e23064",
   "metadata": {},
   "source": [
    "## Testing the Model"
   ]
  },
  {
   "cell_type": "code",
   "execution_count": 14,
   "id": "b42db7c8",
   "metadata": {},
   "outputs": [
    {
     "name": "stdout",
     "output_type": "stream",
     "text": [
      "    X_test  y_test    y_pred\n",
      "0     6.94    2.98  2.970126\n",
      "1     6.22    2.87  2.555168\n",
      "2     6.33    2.59  2.618565\n",
      "3     7.69    3.83  3.402374\n",
      "4     7.09    3.64  3.056576\n",
      "5     5.88    2.08  2.359216\n",
      "6     7.89    2.99  3.517640\n",
      "7     6.07    2.46  2.468719\n",
      "8     8.94    3.65  4.122787\n",
      "9     7.37    3.08  3.217948\n",
      "10    5.48    1.61  2.128684\n",
      "11    7.33    3.16  3.194895\n",
      "12    6.19    2.72  2.537878\n",
      "13    7.08    2.85  3.050812\n",
      "14    7.63    3.44  3.367794\n",
      "15    6.75    2.48  2.860623\n",
      "16    6.35    2.73  2.630091\n",
      "17    6.68    2.49  2.820280\n",
      "18    5.90    2.43  2.370742\n",
      "19    6.85    3.44  2.918256\n",
      "20    7.28    2.72  3.166078\n",
      "21    5.84    2.18  2.336163\n",
      "22    7.87    3.58  3.506113\n",
      "23    8.71    4.08  3.990231\n",
      "24    5.61    2.19  2.203607\n",
      "25    5.10    2.30  1.909678\n",
      "26    7.14    3.03  3.085392\n",
      "27    6.31    3.18  2.607038\n",
      "28    5.12    2.01  1.921205\n",
      "29    5.09    1.86  1.903915\n",
      "30    6.84    2.35  2.912493\n",
      "31    8.20    3.39  3.696302\n",
      "32    6.30    2.73  2.601275\n",
      "33    5.42    2.25  2.094104\n",
      "34    6.14    2.30  2.509062\n",
      "35    8.11    4.06  3.644433\n",
      "36    7.29    3.12  3.171842\n",
      "37    6.94    3.57  2.970126\n",
      "38    8.44    3.49  3.834622\n",
      "39    6.13    2.19  2.503298\n"
     ]
    }
   ],
   "source": [
    "# Testing the model with test data\n",
    "y_pred = LR.predict(X_test)\n",
    "\n",
    "frame = {'X_test':X_test, 'y_test':y_test, 'y_pred':y_pred}\n",
    "pred_df = pd.DataFrame(frame)\n",
    "print(pred_df)\n"
   ]
  },
  {
   "cell_type": "code",
   "execution_count": 15,
   "id": "aafc0580",
   "metadata": {},
   "outputs": [
    {
     "name": "stdout",
     "output_type": "stream",
     "text": [
      "Expected package for a student with CGPA of 7.8: 3.466 LPA\n"
     ]
    }
   ],
   "source": [
    "# Testing the model for a student with CGPA = 7.8\n",
    "predicted_package = LR.predict(7.8)\n",
    "print(\"Expected package for a student with CGPA of 7.8:\", predicted_package.round(3), \"LPA\")"
   ]
  },
  {
   "cell_type": "markdown",
   "id": "8cf557a0",
   "metadata": {},
   "source": [
    "## Evaluating the model"
   ]
  },
  {
   "cell_type": "code",
   "execution_count": 16,
   "id": "2bedebc4",
   "metadata": {},
   "outputs": [],
   "source": [
    "# Mean Squared Errors\n",
    "\n",
    "def calc_MSE(y, y_pred):\n",
    "    SSE = 0\n",
    "    \n",
    "    for i in range(len(y)):\n",
    "        SSE += (y[i] - y_pred[i])**2\n",
    "        \n",
    "    return SSE/len(y)"
   ]
  },
  {
   "cell_type": "code",
   "execution_count": 17,
   "id": "dcf0d7e0",
   "metadata": {},
   "outputs": [
    {
     "name": "stdout",
     "output_type": "stream",
     "text": [
      "0.10221131059334207\n"
     ]
    }
   ],
   "source": [
    "print(calc_MSE(y_test, y_pred))"
   ]
  }
 ],
 "metadata": {
  "kernelspec": {
   "display_name": "Python 3 (ipykernel)",
   "language": "python",
   "name": "python3"
  },
  "language_info": {
   "codemirror_mode": {
    "name": "ipython",
    "version": 3
   },
   "file_extension": ".py",
   "mimetype": "text/x-python",
   "name": "python",
   "nbconvert_exporter": "python",
   "pygments_lexer": "ipython3",
   "version": "3.9.10"
  }
 },
 "nbformat": 4,
 "nbformat_minor": 5
}
